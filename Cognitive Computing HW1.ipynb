{
 "cells": [
  {
   "cell_type": "markdown",
   "metadata": {},
   "source": [
    "## Problem 2"
   ]
  },
  {
   "cell_type": "markdown",
   "metadata": {},
   "source": [
    "### 1. Consider the linear subspace S = span{v1,v2,v3,v4}where v1 = [1,2,3,4],v2 = [0,1,0,1],v3 = [1,4,3,6],v4 = [2,11,6,15]. Create a vector inside S diﬀerent from v1,v2,v3,v4. Create a vector not in S. How would you check if a new vector is in S?"
   ]
  },
  {
   "cell_type": "code",
   "execution_count": 83,
   "metadata": {},
   "outputs": [],
   "source": [
    "def checkvector(v):\n",
    "    import numpy as np\n",
    "    a = np.array([[1,0,1,2], [2,1,4,1], [3,0,3,6],[3,1,6,15]])\n",
    "    b = np.array(v)\n",
    "    try:\n",
    "        x = np.linalg.solve(a, b)\n",
    "        print(\"This vector is in subspace S\")\n",
    "#         print(x)\n",
    "        print(\"This new vector = ({}*v1)+({}*v2)+({}*v3)+({}*v4)\".format(x[0],x[1],x[2],x[3]))\n",
    "    except:\n",
    "        print(\"This vector is not in subspace S\")"
   ]
  },
  {
   "cell_type": "code",
   "execution_count": 84,
   "metadata": {},
   "outputs": [
    {
     "name": "stdout",
     "output_type": "stream",
     "text": [
      "This vector is in subspace S\n",
      "This new vector = (0.0*v1)+(-1.0*v2)+(1.0*v3)+(-0.0*v4)\n"
     ]
    }
   ],
   "source": [
    "checkvector([1,3,3,5])"
   ]
  },
  {
   "cell_type": "code",
   "execution_count": 85,
   "metadata": {},
   "outputs": [
    {
     "name": "stdout",
     "output_type": "stream",
     "text": [
      "This vector is in subspace S\n",
      "This new vector = (0.0*v1)+(2.0*v2)+(4.0*v3)+(-0.0*v4)\n"
     ]
    }
   ],
   "source": [
    "checkvector([4,18,12,26])"
   ]
  },
  {
   "cell_type": "markdown",
   "metadata": {},
   "source": [
    "### 2. Find the dimension of the subspace S."
   ]
  },
  {
   "cell_type": "code",
   "execution_count": null,
   "metadata": {},
   "outputs": [],
   "source": []
  },
  {
   "cell_type": "code",
   "execution_count": null,
   "metadata": {},
   "outputs": [],
   "source": []
  },
  {
   "cell_type": "markdown",
   "metadata": {},
   "source": [
    "### 3. Find an orthonormal basis for the subspace S."
   ]
  },
  {
   "cell_type": "code",
   "execution_count": 109,
   "metadata": {},
   "outputs": [
    {
     "data": {
      "text/plain": [
       "array([[-0.13101141, -0.06845957, -0.27955196],\n",
       "       [-0.16425247, -0.93756671,  0.30657756],\n",
       "       [-0.39303422, -0.2053787 , -0.83865588],\n",
       "       [-0.89519899,  0.272216  ,  0.35286997]])"
      ]
     },
     "execution_count": 109,
     "metadata": {},
     "output_type": "execute_result"
    }
   ],
   "source": [
    "from scipy import linalg\n",
    "A = np.array([[1,0,1,2], [2,1,4,1], [3,0,3,6],[3,1,6,15]])\n",
    "scipy.linalg.orth(A)"
   ]
  },
  {
   "cell_type": "code",
   "execution_count": 108,
   "metadata": {},
   "outputs": [
    {
     "data": {
      "text/plain": [
       "array([[-0.24011927,  0.8581727 ],\n",
       "       [-0.05990306, -0.29094143],\n",
       "       [-0.35992538,  0.27628983],\n",
       "       [-0.89955994, -0.32024463]])"
      ]
     },
     "execution_count": 108,
     "metadata": {},
     "output_type": "execute_result"
    }
   ],
   "source": [
    "from scipy import linalg\n",
    "A = np.array([[1,2,3,4], [0,1,0,1], [1,4,3,6],[2,11,6,15]])\n",
    "scipy.linalg.orth(A)"
   ]
  },
  {
   "cell_type": "markdown",
   "metadata": {},
   "source": [
    "### 4. Solve the optimization problem minx∈S||x−z∗||2 where z∗ = [1,0,0,0]."
   ]
  },
  {
   "cell_type": "code",
   "execution_count": null,
   "metadata": {},
   "outputs": [],
   "source": []
  },
  {
   "cell_type": "code",
   "execution_count": null,
   "metadata": {},
   "outputs": [],
   "source": []
  },
  {
   "cell_type": "markdown",
   "metadata": {},
   "source": [
    "### 5. (Tricky) Is there a relation of this optimization problem with linear regression? Discuss."
   ]
  },
  {
   "cell_type": "code",
   "execution_count": null,
   "metadata": {},
   "outputs": [],
   "source": []
  }
 ],
 "metadata": {
  "kernelspec": {
   "display_name": "Python 3",
   "language": "python",
   "name": "python3"
  },
  "language_info": {
   "codemirror_mode": {
    "name": "ipython",
    "version": 3
   },
   "file_extension": ".py",
   "mimetype": "text/x-python",
   "name": "python",
   "nbconvert_exporter": "python",
   "pygments_lexer": "ipython3",
   "version": "3.7.6"
  }
 },
 "nbformat": 4,
 "nbformat_minor": 4
}
