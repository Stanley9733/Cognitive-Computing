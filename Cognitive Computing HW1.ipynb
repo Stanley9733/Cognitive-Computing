{
 "cells": [
  {
   "cell_type": "markdown",
   "metadata": {},
   "source": [
    "## Problem 2"
   ]
  },
  {
   "cell_type": "markdown",
   "metadata": {},
   "source": [
    "### 1. Consider the linear subspace S = span{v1,v2,v3,v4}where v1 = [1,2,3,4],v2 = [0,1,0,1],v3 = [1,4,3,6],v4 = [2,11,6,15]. Create a vector inside S diﬀerent from v1,v2,v3,v4. Create a vector not in S. How would you check if a new vector is in S?"
   ]
  },
  {
   "cell_type": "code",
   "execution_count": 1,
   "metadata": {},
   "outputs": [],
   "source": [
    "import warnings\n",
    "warnings.filterwarnings('ignore')\n",
    "import numpy as np"
   ]
  },
  {
   "cell_type": "code",
   "execution_count": 2,
   "metadata": {},
   "outputs": [],
   "source": [
    "def checkvector(v):\n",
    "    a = np.array([[1,2,3,4],[0,1,0,1]])\n",
    "    b = np.array(v)\n",
    "    x = np.linalg.linalg.lstsq(np.transpose(a), b)[0]\n",
    "#     print(round(x[0],5))\n",
    "#     print(round(x[1],5))\n",
    "    x = [round(x[0],5),round(x[1],5)]\n",
    "    if (x[0]*1==v[0]) and (x[0]*2+x[1]==v[1]) and (x[0]*3==v[2]) and (x[0]*4+x[1]==v[3]):\n",
    "        print(\"This vector is in subspace S\")\n",
    "        print(\"This new vector = ({}*v1)+({}*v2)\".format(x[0],x[1]))\n",
    "    else:\n",
    "        print(\"This vector is not in subspace S\")"
   ]
  },
  {
   "cell_type": "code",
   "execution_count": 3,
   "metadata": {},
   "outputs": [
    {
     "name": "stdout",
     "output_type": "stream",
     "text": [
      "This vector is in subspace S\n",
      "This new vector = (1.0*v1)+(1.0*v2)\n"
     ]
    }
   ],
   "source": [
    "checkvector([1,3,3,5])"
   ]
  },
  {
   "cell_type": "code",
   "execution_count": 4,
   "metadata": {},
   "outputs": [
    {
     "name": "stdout",
     "output_type": "stream",
     "text": [
      "This vector is in subspace S\n",
      "This new vector = (4.0*v1)+(10.0*v2)\n"
     ]
    }
   ],
   "source": [
    "checkvector([4,18,12,26])"
   ]
  },
  {
   "cell_type": "code",
   "execution_count": 5,
   "metadata": {},
   "outputs": [
    {
     "name": "stdout",
     "output_type": "stream",
     "text": [
      "This vector is not in subspace S\n"
     ]
    }
   ],
   "source": [
    "checkvector([2,9,7,4])"
   ]
  },
  {
   "cell_type": "markdown",
   "metadata": {},
   "source": [
    "#### A vector is on the subspace if it is not linear independent on the vectors on the subspace and if it is linear independent, it is out of the subspace. "
   ]
  },
  {
   "cell_type": "markdown",
   "metadata": {},
   "source": [
    "### 2. Find the dimension of the subspace S."
   ]
  },
  {
   "cell_type": "code",
   "execution_count": 6,
   "metadata": {},
   "outputs": [],
   "source": [
    "def check(a,v):\n",
    "    a = np.array(a)\n",
    "    b = np.array(v)\n",
    "    x = np.linalg.linalg.lstsq(np.transpose(a), b)[0]\n",
    "    x = [round(x[0],5),round(x[1],5)]\n",
    "    if (x[0]*1==v[0]) and (x[0]*2+x[1]==v[1]) and (x[0]*3==v[2]) and (x[0]*4+x[1]==v[3]):\n",
    "        return True\n",
    "    else:\n",
    "        return False"
   ]
  },
  {
   "cell_type": "code",
   "execution_count": 7,
   "metadata": {},
   "outputs": [
    {
     "data": {
      "text/plain": [
       "True"
      ]
     },
     "execution_count": 7,
     "metadata": {},
     "output_type": "execute_result"
    }
   ],
   "source": [
    "check([[1,2,3,4],[0,1,0,1]],[1,4,3,6])"
   ]
  },
  {
   "cell_type": "code",
   "execution_count": 8,
   "metadata": {},
   "outputs": [],
   "source": [
    "def finddimension(v):\n",
    "    a = np.array(v[:2])\n",
    "    i=2\n",
    "    for x in range(2,len(v)):\n",
    "        if check(a,v[x]):\n",
    "            continue\n",
    "        else:\n",
    "            a = np.append(a, [v[x]],axis=0)\n",
    "            i+=1\n",
    "    print(\"The dimension of this subspace is \"+str(i))"
   ]
  },
  {
   "cell_type": "code",
   "execution_count": 9,
   "metadata": {},
   "outputs": [
    {
     "name": "stdout",
     "output_type": "stream",
     "text": [
      "The dimension of this subspace is 2\n"
     ]
    }
   ],
   "source": [
    "finddimension([[1,2,3,4],[0,1,0,1],[1,4,3,6],[2,11,6,15]])"
   ]
  },
  {
   "cell_type": "markdown",
   "metadata": {},
   "source": [
    "#### Since v3 = v1+2(v2) and v4 =  2(v1)+7(v2), we can say the dimenson of subspace S is two. "
   ]
  },
  {
   "cell_type": "code",
   "execution_count": 289,
   "metadata": {},
   "outputs": [
    {
     "data": {
      "text/plain": [
       "array([[1, 2, 3, 4],\n",
       "       [0, 1, 0, 1],\n",
       "       [1, 4, 3, 6]])"
      ]
     },
     "execution_count": 289,
     "metadata": {},
     "output_type": "execute_result"
    }
   ],
   "source": [
    "np.append([[1,2,3,4],[0,1,0,1]],[[1,4,3,6]],axis=0)"
   ]
  },
  {
   "cell_type": "markdown",
   "metadata": {},
   "source": [
    "### 3. Find an orthonormal basis for the subspace S."
   ]
  },
  {
   "cell_type": "markdown",
   "metadata": {},
   "source": [
    "$$v1 = [1,2,3,4]$$\n",
    "$$v2 = [0,1,0,1]$$\n",
    "$$b1 = [1,2,3,4]$$"
   ]
  },
  {
   "cell_type": "markdown",
   "metadata": {},
   "source": [
    "$$b2= v2 - \\frac{v2*v1}{v1*v1}v1 = [\\frac{-1}{5},\\frac{3}{5},\\frac{-3}{5},\\frac{1}{5}]$$"
   ]
  },
  {
   "cell_type": "markdown",
   "metadata": {},
   "source": [
    "#### The orthogonal basis of subspace S is [1,2,3,4],[-1/5,3/5,-3/5,1/5]"
   ]
  },
  {
   "cell_type": "markdown",
   "metadata": {},
   "source": [
    "Orthonormal basis 1 is $$ \\frac{b1}{\\sqrt{b1}}  = [\\frac{1}{\\sqrt{30}},\\frac{2}{\\sqrt{30}},\\frac{3}{\\sqrt{30}},\\frac{4}{\\sqrt{30}}]$$"
   ]
  },
  {
   "cell_type": "markdown",
   "metadata": {},
   "source": [
    "Orthonormal basis 2 is $$ \\frac{b2}{\\sqrt{b2}}  = [\\frac{-1}{\\sqrt{20}},\\frac{3}{\\sqrt{20}},\\frac{-3}{\\sqrt{20}},\\frac{1}{\\sqrt{20}}]$$"
   ]
  },
  {
   "cell_type": "markdown",
   "metadata": {},
   "source": [
    "### 4. Solve the optimization problem minx∈S||x−z||2 where z = [1,0,0,0]."
   ]
  },
  {
   "cell_type": "markdown",
   "metadata": {},
   "source": [
    "### Method 1\n",
    "#### Since x is on subspace S, so x = a[1,2,3,4]+b[-1,3,-3,1] = [a-b,2a+3b,3a-3b,4a+b]\n",
    "#### The distance between x and z is the length of vector [a-b-1,2a+3b,3a-3b,4a+b]\n",
    "#### After simplify the expression, the distance is"
   ]
  },
  {
   "cell_type": "markdown",
   "metadata": {},
   "source": [
    "$$\\sqrt{ 30a^2+20b^2-2a+2b+1} = \\sqrt{30(a-\\frac{1}{30})^2+20(b+\\frac{1}{20})^2+1- \\frac{1}{30}- \\frac{1}{20}}$$"
   ]
  },
  {
   "cell_type": "markdown",
   "metadata": {},
   "source": [
    "#### The minimum distance is $$\\sqrt{1- \\frac{1}{30}- \\frac{1}{20}} = \\sqrt{1-0.03333-0.05}= \\sqrt{0.91667} = 0.95743 $$"
   ]
  },
  {
   "cell_type": "markdown",
   "metadata": {},
   "source": [
    "### Method 2"
   ]
  },
  {
   "cell_type": "markdown",
   "metadata": {},
   "source": [
    "Given u1 and v1 are orthonormal basis,The projection point r = $$(z^Tu_1)u_1+(z^Tv_1)v_1 $$"
   ]
  },
  {
   "cell_type": "markdown",
   "metadata": {},
   "source": [
    "Projection point r =  $$ [\\frac{1}{12},\\frac{-1}{12},\\frac{1}{4},\\frac{1}{12}]$$"
   ]
  },
  {
   "cell_type": "markdown",
   "metadata": {},
   "source": [
    "The distance can be written as $$ \\lVert z-r \\rVert $$"
   ]
  },
  {
   "cell_type": "markdown",
   "metadata": {},
   "source": [
    "The distance = $$\\sqrt{(1-\\frac{1}{12})^2+(\\frac{-1}{12})^2+(\\frac{-1}{4})^2+(\\frac{-1}{12})^2} = \\sqrt{0.91667}=0.95743  $$"
   ]
  },
  {
   "cell_type": "markdown",
   "metadata": {},
   "source": [
    "$$argminx∈S \\lVert x−z\\lVert = 0.91667$$"
   ]
  },
  {
   "cell_type": "markdown",
   "metadata": {},
   "source": [
    "### 5. (Tricky) Is there a relation of this optimization problem with linear regression? Discuss."
   ]
  },
  {
   "cell_type": "markdown",
   "metadata": {},
   "source": [
    "#### The distance between a vector and a subspace is the same concept as the loss function of linear regression. In this question, we have a subspace and a vector out of this subspace, we are minimizing the distance between the subspace and the vector. In linear regression problem, we have a group of points and trying to find a line to minimize the sum of distance between each point and the line."
   ]
  }
 ],
 "metadata": {
  "kernelspec": {
   "display_name": "Python 3",
   "language": "python",
   "name": "python3"
  },
  "language_info": {
   "codemirror_mode": {
    "name": "ipython",
    "version": 3
   },
   "file_extension": ".py",
   "mimetype": "text/x-python",
   "name": "python",
   "nbconvert_exporter": "python",
   "pygments_lexer": "ipython3",
   "version": "3.7.6"
  }
 },
 "nbformat": 4,
 "nbformat_minor": 4
}
